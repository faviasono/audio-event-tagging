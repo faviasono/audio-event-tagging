{
 "cells": [
  {
   "cell_type": "code",
   "execution_count": 66,
   "metadata": {},
   "outputs": [],
   "source": [
    "import os\n",
    "import pandas as pd\n",
    "import numpy as np\n",
    "import json\n",
    "from collections import defaultdict"
   ]
  },
  {
   "cell_type": "code",
   "execution_count": 11,
   "metadata": {},
   "outputs": [],
   "source": [
    "data_path = os.path.abspath(os.path.join(os.getcwd(),os.pardir,os.pardir))+'/data/'"
   ]
  },
  {
   "cell_type": "code",
   "execution_count": null,
   "metadata": {},
   "outputs": [],
   "source": [
    "dictionary = {'Animal': {'/m/0ch8v','/m/01280g','/m/068hy'},\n",
    "              'Humans':{'/m/02zsn','/m/01w250','/m/09hlz4','/m/0bpl036','/m/09l8g',\n",
    "                       '/m/0k65p','/m/01jg02','/t/dd00012','m/05zppz','/m/09x0r'},\n",
    "              'Natural':{'/m/03m9d0z','/m/0jb2l','/m/0838f','/m/02_41'}\n",
    "              'Music':{'/m/04rlf'}}"
   ]
  },
  {
   "cell_type": "markdown",
   "metadata": {},
   "source": [
    "- speech is one of the most interesting feature for humans hence it's the most used \n",
    "- Music is not used atm\n",
    "- Animals: Domestic animals / Livestock / Wild animals\n",
    "- Natural: Wind / Thunderstorm / Water / Fire\n"
   ]
  },
  {
   "cell_type": "markdown",
   "metadata": {},
   "source": [
    "Step 1: Take only these classes"
   ]
  },
  {
   "cell_type": "markdown",
   "metadata": {},
   "source": [
    "Read dataset"
   ]
  },
  {
   "cell_type": "code",
   "execution_count": 238,
   "metadata": {},
   "outputs": [],
   "source": [
    "lines =[]\n",
    "with open(data_path+'unbalanced_train_segments.csv','r') as file:\n",
    "    lines = file.readlines()\n",
    "lines = lines[3:]"
   ]
  },
  {
   "cell_type": "markdown",
   "metadata": {},
   "source": [
    "Create dataframe for each category [it takes a while - not really efficient]"
   ]
  },
  {
   "cell_type": "code",
   "execution_count": 341,
   "metadata": {},
   "outputs": [],
   "source": [
    "dataframe = []\n",
    "#for each category\n",
    "for i,key in enumerate(dictionary.keys()):\n",
    "    data = np.ones(shape=(1,4)) \n",
    "    for line in lines:\n",
    "        elements = line.rstrip().split(',')\n",
    "        common = list(dictionary[key].intersection(elements[3:]))\n",
    "        #no control about the subgroup\n",
    "        if common != []:\n",
    "            data = np.vstack([data, np.array(elements[:3] + [key]).reshape(1,4)])\n",
    "    dataframe.append(data)\n",
    "        "
   ]
  },
  {
   "cell_type": "code",
   "execution_count": 377,
   "metadata": {},
   "outputs": [],
   "source": [
    "def get_sample(arr,k=5000): #take k-sample from the dataset\n",
    "    idx = np.random.choice(range(2,len(arr)),replace=False,size=k)\n",
    "    return arr[idx]"
   ]
  },
  {
   "cell_type": "code",
   "execution_count": 378,
   "metadata": {},
   "outputs": [],
   "source": [
    "temp = np.vstack([np.vstack([get_sample(dataframe[0]), get_sample(dataframe[1])]), get_sample(dataframe[2])])\n",
    "df = pd.DataFrame(temp, columns=['url', 'start_time', 'end_time', 'class_label'])"
   ]
  },
  {
   "cell_type": "code",
   "execution_count": 380,
   "metadata": {},
   "outputs": [
    {
     "data": {
      "text/plain": [
       "Natural    5000\n",
       "Humans     5000\n",
       "Animal     5000\n",
       "Name: class_label, dtype: int64"
      ]
     },
     "execution_count": 380,
     "metadata": {},
     "output_type": "execute_result"
    }
   ],
   "source": [
    "df.class_label.value_counts() #it's balanced -> justify it"
   ]
  },
  {
   "cell_type": "code",
   "execution_count": 384,
   "metadata": {},
   "outputs": [
    {
     "data": {
      "text/html": [
       "<div>\n",
       "<style scoped>\n",
       "    .dataframe tbody tr th:only-of-type {\n",
       "        vertical-align: middle;\n",
       "    }\n",
       "\n",
       "    .dataframe tbody tr th {\n",
       "        vertical-align: top;\n",
       "    }\n",
       "\n",
       "    .dataframe thead th {\n",
       "        text-align: right;\n",
       "    }\n",
       "</style>\n",
       "<table border=\"1\" class=\"dataframe\">\n",
       "  <thead>\n",
       "    <tr style=\"text-align: right;\">\n",
       "      <th></th>\n",
       "      <th>url</th>\n",
       "      <th>start_time</th>\n",
       "      <th>end_time</th>\n",
       "      <th>class_label</th>\n",
       "    </tr>\n",
       "  </thead>\n",
       "  <tbody>\n",
       "    <tr>\n",
       "      <th>13518</th>\n",
       "      <td>hrOETwCyaMI</td>\n",
       "      <td>30.000</td>\n",
       "      <td>40.000</td>\n",
       "      <td>Natural</td>\n",
       "    </tr>\n",
       "    <tr>\n",
       "      <th>13819</th>\n",
       "      <td>xnphJxdVEtM</td>\n",
       "      <td>10.000</td>\n",
       "      <td>20.000</td>\n",
       "      <td>Natural</td>\n",
       "    </tr>\n",
       "    <tr>\n",
       "      <th>7058</th>\n",
       "      <td>w64j9WLL6Jc</td>\n",
       "      <td>30.000</td>\n",
       "      <td>40.000</td>\n",
       "      <td>Humans</td>\n",
       "    </tr>\n",
       "    <tr>\n",
       "      <th>8751</th>\n",
       "      <td>4RzL40abzxI</td>\n",
       "      <td>30.000</td>\n",
       "      <td>40.000</td>\n",
       "      <td>Humans</td>\n",
       "    </tr>\n",
       "    <tr>\n",
       "      <th>2673</th>\n",
       "      <td>hJHznQgrNQk</td>\n",
       "      <td>30.000</td>\n",
       "      <td>40.000</td>\n",
       "      <td>Animal</td>\n",
       "    </tr>\n",
       "    <tr>\n",
       "      <th>2944</th>\n",
       "      <td>cN-oYKd-M4E</td>\n",
       "      <td>20.000</td>\n",
       "      <td>30.000</td>\n",
       "      <td>Animal</td>\n",
       "    </tr>\n",
       "    <tr>\n",
       "      <th>14936</th>\n",
       "      <td>8jCy3gEe_Mk</td>\n",
       "      <td>28.000</td>\n",
       "      <td>38.000</td>\n",
       "      <td>Natural</td>\n",
       "    </tr>\n",
       "    <tr>\n",
       "      <th>11218</th>\n",
       "      <td>duuPisBMWvQ</td>\n",
       "      <td>30.000</td>\n",
       "      <td>40.000</td>\n",
       "      <td>Natural</td>\n",
       "    </tr>\n",
       "    <tr>\n",
       "      <th>6713</th>\n",
       "      <td>4IcJ4-ldsTo</td>\n",
       "      <td>30.000</td>\n",
       "      <td>40.000</td>\n",
       "      <td>Humans</td>\n",
       "    </tr>\n",
       "    <tr>\n",
       "      <th>12519</th>\n",
       "      <td>3dlDW5rwkS8</td>\n",
       "      <td>100.000</td>\n",
       "      <td>110.000</td>\n",
       "      <td>Natural</td>\n",
       "    </tr>\n",
       "    <tr>\n",
       "      <th>2102</th>\n",
       "      <td>rXUc7rfCGvc</td>\n",
       "      <td>6.000</td>\n",
       "      <td>16.000</td>\n",
       "      <td>Animal</td>\n",
       "    </tr>\n",
       "    <tr>\n",
       "      <th>11476</th>\n",
       "      <td>8z8yuH_D-yU</td>\n",
       "      <td>30.000</td>\n",
       "      <td>40.000</td>\n",
       "      <td>Natural</td>\n",
       "    </tr>\n",
       "    <tr>\n",
       "      <th>1411</th>\n",
       "      <td>iTsJOH2OlYU</td>\n",
       "      <td>30.000</td>\n",
       "      <td>40.000</td>\n",
       "      <td>Animal</td>\n",
       "    </tr>\n",
       "    <tr>\n",
       "      <th>10058</th>\n",
       "      <td>RyGZKo8h-oM</td>\n",
       "      <td>30.000</td>\n",
       "      <td>40.000</td>\n",
       "      <td>Natural</td>\n",
       "    </tr>\n",
       "    <tr>\n",
       "      <th>10102</th>\n",
       "      <td>V4EftjzQSRk</td>\n",
       "      <td>30.000</td>\n",
       "      <td>40.000</td>\n",
       "      <td>Natural</td>\n",
       "    </tr>\n",
       "    <tr>\n",
       "      <th>6941</th>\n",
       "      <td>Fz5PhC7dgt4</td>\n",
       "      <td>70.000</td>\n",
       "      <td>80.000</td>\n",
       "      <td>Humans</td>\n",
       "    </tr>\n",
       "    <tr>\n",
       "      <th>2839</th>\n",
       "      <td>JpPwbPIZFFY</td>\n",
       "      <td>60.000</td>\n",
       "      <td>70.000</td>\n",
       "      <td>Animal</td>\n",
       "    </tr>\n",
       "    <tr>\n",
       "      <th>13452</th>\n",
       "      <td>lc29XGYYD84</td>\n",
       "      <td>400.000</td>\n",
       "      <td>410.000</td>\n",
       "      <td>Natural</td>\n",
       "    </tr>\n",
       "    <tr>\n",
       "      <th>13686</th>\n",
       "      <td>Ekm8xTqHSv4</td>\n",
       "      <td>250.000</td>\n",
       "      <td>260.000</td>\n",
       "      <td>Natural</td>\n",
       "    </tr>\n",
       "    <tr>\n",
       "      <th>10222</th>\n",
       "      <td>E910Xh7xMDw</td>\n",
       "      <td>90.000</td>\n",
       "      <td>100.000</td>\n",
       "      <td>Natural</td>\n",
       "    </tr>\n",
       "  </tbody>\n",
       "</table>\n",
       "</div>"
      ],
      "text/plain": [
       "               url start_time  end_time class_label\n",
       "13518  hrOETwCyaMI     30.000    40.000     Natural\n",
       "13819  xnphJxdVEtM     10.000    20.000     Natural\n",
       "7058   w64j9WLL6Jc     30.000    40.000      Humans\n",
       "8751   4RzL40abzxI     30.000    40.000      Humans\n",
       "2673   hJHznQgrNQk     30.000    40.000      Animal\n",
       "2944   cN-oYKd-M4E     20.000    30.000      Animal\n",
       "14936  8jCy3gEe_Mk     28.000    38.000     Natural\n",
       "11218  duuPisBMWvQ     30.000    40.000     Natural\n",
       "6713   4IcJ4-ldsTo     30.000    40.000      Humans\n",
       "12519  3dlDW5rwkS8    100.000   110.000     Natural\n",
       "2102   rXUc7rfCGvc      6.000    16.000      Animal\n",
       "11476  8z8yuH_D-yU     30.000    40.000     Natural\n",
       "1411   iTsJOH2OlYU     30.000    40.000      Animal\n",
       "10058  RyGZKo8h-oM     30.000    40.000     Natural\n",
       "10102  V4EftjzQSRk     30.000    40.000     Natural\n",
       "6941   Fz5PhC7dgt4     70.000    80.000      Humans\n",
       "2839   JpPwbPIZFFY     60.000    70.000      Animal\n",
       "13452  lc29XGYYD84    400.000   410.000     Natural\n",
       "13686  Ekm8xTqHSv4    250.000   260.000     Natural\n",
       "10222  E910Xh7xMDw     90.000   100.000     Natural"
      ]
     },
     "execution_count": 384,
     "metadata": {},
     "output_type": "execute_result"
    }
   ],
   "source": [
    "df.sample(20)"
   ]
  },
  {
   "cell_type": "code",
   "execution_count": 386,
   "metadata": {},
   "outputs": [],
   "source": [
    "df.to_csv(data_path+'data_split.csv') #save dataset"
   ]
  }
 ],
 "metadata": {
  "kernelspec": {
   "display_name": "Python 3",
   "language": "python",
   "name": "python3"
  },
  "language_info": {
   "codemirror_mode": {
    "name": "ipython",
    "version": 3
   },
   "file_extension": ".py",
   "mimetype": "text/x-python",
   "name": "python",
   "nbconvert_exporter": "python",
   "pygments_lexer": "ipython3",
   "version": "3.8.3"
  }
 },
 "nbformat": 4,
 "nbformat_minor": 4
}
