{
 "cells": [
  {
   "cell_type": "code",
   "execution_count": 25,
   "metadata": {},
   "outputs": [],
   "source": [
    "import csv, sys\n",
    "import os\n",
    "import wave\n",
    "import contextlib\n",
    "\n",
    "from __future__ import unicode_literals\n",
    "import youtube_dl\n",
    "\n",
    "from moviepy.video.io.ffmpeg_tools import ffmpeg_extract_subclip\n",
    "\n",
    "from pydub import AudioSegment"
   ]
  },
  {
   "cell_type": "code",
   "execution_count": 28,
   "metadata": {},
   "outputs": [],
   "source": [
    "filename = os.path.abspath(os.path.join(os.getcwd(),os.pardir,os.pardir))+'/data/data_split.csv'\n",
    "rownum = 0\n",
    "path = os.path.abspath(os.path.join(os.getcwd(),os.pardir,os.pardir))+'/data/Audio'\n",
    "project_path = os.path.abspath(os.path.join(os.getcwd(),os.pardir,os.pardir))+'/src'\n"
   ]
  },
  {
   "cell_type": "code",
   "execution_count": 29,
   "metadata": {
    "scrolled": true
   },
   "outputs": [
    {
     "name": "stdout",
     "output_type": "stream",
     "text": [
      "['0', 'SpNYhh5nwBk', ' 50.000', ' 60.000', 'Animal']\n",
      "[youtube] SpNYhh5nwBk: Downloading webpage\n",
      "[download] Destination: 0_SpNYhh5nwBk-Completo.webm\n",
      "[download] 100% of 828.58KiB in 00:00                  \n",
      "[ffmpeg] Destination: 0_SpNYhh5nwBk-Completo.wav\n",
      "Deleting original file 0_SpNYhh5nwBk-Completo.webm (pass -k to keep)\n",
      "SpNYhh5nwBk 0\n",
      "['1', 'Y-5QMgGV1H0', ' 0.000', ' 10.000', 'Animal']\n",
      "[youtube] Y-5QMgGV1H0: Downloading webpage\n",
      "[download] Destination: 1_Y-5QMgGV1H0-Completo.webm\n",
      "[download] 100% of 233.50KiB in 00:00                  \n",
      "[ffmpeg] Destination: 1_Y-5QMgGV1H0-Completo.wav\n",
      "Deleting original file 1_Y-5QMgGV1H0-Completo.webm (pass -k to keep)\n",
      "Y-5QMgGV1H0 1\n",
      "['2', '2yRlkPqa6rQ', ' 20.000', ' 30.000', 'Animal']\n",
      "[youtube] 2yRlkPqa6rQ: Downloading webpage\n"
     ]
    },
    {
     "name": "stderr",
     "output_type": "stream",
     "text": [
      "ERROR: 2yRlkPqa6rQ: YouTube said: Unable to extract video data\n"
     ]
    },
    {
     "name": "stdout",
     "output_type": "stream",
     "text": [
      "2yRlkPqa6rQ 2\n",
      "['3', 'NYiIU62GHV4', ' 30.000', ' 40.000', 'Animal']\n",
      "[youtube] NYiIU62GHV4: Downloading webpage\n",
      "[download] Destination: 3_NYiIU62GHV4-Completo.m4a\n",
      "[download] 100% of 935.03KiB in 00:00                  \n",
      "[ffmpeg] Correcting container in \"3_NYiIU62GHV4-Completo.m4a\"\n",
      "[ffmpeg] Destination: 3_NYiIU62GHV4-Completo.wav\n",
      "Deleting original file 3_NYiIU62GHV4-Completo.m4a (pass -k to keep)\n",
      "NYiIU62GHV4 3\n",
      "['4', 'x3c0szZ7VYI', ' 60.000', ' 70.000', 'Animal']\n",
      "[youtube] x3c0szZ7VYI: Downloading webpage\n",
      "[download] Destination: 4_x3c0szZ7VYI-Completo.webm\n",
      "[download] 100% of 3.25MiB in 00:00                  \n",
      "[ffmpeg] Destination: 4_x3c0szZ7VYI-Completo.wav\n",
      "Deleting original file 4_x3c0szZ7VYI-Completo.webm (pass -k to keep)\n",
      "x3c0szZ7VYI 4\n"
     ]
    }
   ],
   "source": [
    "#FUNZIONA MA SCARICA I FILE AUDIO INTERI\n",
    "os.chdir(path)\n",
    "\n",
    "with open(filename, newline='') as f:\n",
    "    reader = csv.reader(f)\n",
    "    for row in reader:\n",
    "        if rownum > 5: #serve solo per testare\n",
    "            break\n",
    "        # Skip the 1 line header\n",
    "        if rownum >= 1:\n",
    "            print(row)\n",
    "            \n",
    "            NAME= str(rownum - 1) + '_' + row[1]\n",
    "            FROM = str(float(row[2].lstrip()))\n",
    "            TO = str(float(row[3].lstrip()))\n",
    "            \n",
    "            ydl_opts = {\n",
    "                'format': 'bestaudio/best',\n",
    "                'outtmpl': NAME+'-Completo'+'.%(ext)s',\n",
    "                'postprocessors': [{\n",
    "                    'key': 'FFmpegExtractAudio',\n",
    "                    'preferredcodec': 'wav',\n",
    "                    'preferredquality': '192',\n",
    "                    }],\n",
    "\n",
    "            }\n",
    "            \n",
    "            try:\n",
    "                with youtube_dl.YoutubeDL(ydl_opts) as ydl:\n",
    "                    ydl.download(['https://www.youtube.com/watch?v='+ row[1]])\n",
    "                    \n",
    "                 # Fa una copia del file e lo taglia--> NON VA   \n",
    "                #ffmpeg_extract_subclip(NAME+'-Completo'+'.%(ext)s', FROM, TO, targetname=NAME+\".wav\")\n",
    "                #ffslice NAME+'-Completo'+'.%(ext)s' FROM TO\n",
    "                #avconv -i \"NAME+'-Completo'+'.%(ext)s'\" -c:a copy -c:v copy -ss FROM -t TO NAME+\".wav\"\n",
    "                \n",
    "                # Opening file and extracting segment\n",
    "                song = AudioSegment.from_mp3( NAME+'-Completo'+'.%(ext)s' )\n",
    "                extract = song[FROM:TO]\n",
    "\n",
    "                # Saving\n",
    "                extract.export( path + NAME+'.mp3', format=\"mp3\")\n",
    "                \n",
    "            except:\n",
    "                print(row[1], str(rownum - 1))\n",
    "                pass\n",
    "        rownum += 1"
   ]
  },
  {
   "cell_type": "code",
   "execution_count": 6,
   "metadata": {},
   "outputs": [
    {
     "name": "stdout",
     "output_type": "stream",
     "text": [
      "['0', 'SpNYhh5nwBk', ' 50.000', ' 60.000', 'Animal']\n",
      "[youtube] SpNYhh5nwBk: Downloading webpage\n",
      "SpNYhh5nwBk 0\n",
      "['1', 'Y-5QMgGV1H0', ' 0.000', ' 10.000', 'Animal']\n",
      "[youtube] Y-5QMgGV1H0: Downloading webpage\n",
      "Y-5QMgGV1H0 1\n",
      "['2', '2yRlkPqa6rQ', ' 20.000', ' 30.000', 'Animal']\n",
      "[youtube] 2yRlkPqa6rQ: Downloading webpage\n"
     ]
    },
    {
     "name": "stderr",
     "output_type": "stream",
     "text": [
      "ERROR: 2yRlkPqa6rQ: YouTube said: Unable to extract video data\n"
     ]
    },
    {
     "name": "stdout",
     "output_type": "stream",
     "text": [
      "2yRlkPqa6rQ 2\n",
      "['3', 'NYiIU62GHV4', ' 30.000', ' 40.000', 'Animal']\n",
      "[youtube] NYiIU62GHV4: Downloading webpage\n",
      "NYiIU62GHV4 3\n",
      "['4', 'x3c0szZ7VYI', ' 60.000', ' 70.000', 'Animal']\n",
      "[youtube] x3c0szZ7VYI: Downloading webpage\n",
      "x3c0szZ7VYI 4\n"
     ]
    }
   ],
   "source": [
    "#DOVREBBE FUNZIONARE MA NON SALVA\n",
    "# \n",
    "# \n",
    "# \n",
    "\n",
    "\n",
    "os.chdir(path)\n",
    "\n",
    "with open(filename, newline='') as f:\n",
    "    reader = csv.reader(f)\n",
    "    for row in reader:\n",
    "        if rownum > 5: #serve solo per testare\n",
    "            break\n",
    "        # Skip the 1 line header\n",
    "        if rownum >= 1:\n",
    "            print(row)\n",
    "\n",
    "            ydl_opts = {\n",
    "                'format': 'bestaudio/best',\n",
    "                'outtmpl': str(rownum - 1) + '_' + row[1]+'.%(ext)s',\n",
    "                'postprocessors': [{\n",
    "                    'key': 'FFmpegExtractAudio',\n",
    "                    'preferredcodec': 'wav',\n",
    "                    'preferredquality': '192',\n",
    "                    }],\n",
    "            }\n",
    "            \n",
    "            URL='https://www.youtube.com/watch?v='+ row[1]\n",
    "            FROM = str(float(row[2].lstrip()))\n",
    "            TO = str(float(row[3].lstrip()))\n",
    "            TARGET = str(rownum - 1) + '_' + row[1]+\".mp4\"\n",
    "            try:\n",
    "                with youtube_dl.YoutubeDL(ydl_opts) as ydl:\n",
    "                    result = ydl.extract_info(URL, download=False)\n",
    "                    video = result['entries'][0] if 'entries' in result else result\n",
    "                    url = video['url']\n",
    "                    a=subprocess.call('ffmpeg -i \"%s\" -ss %s -t %s -c:v copy -c:a copy \"%s\"' % (url, FROM, TO, TARGET))\n",
    "                    print(a)\n",
    "            except:\n",
    "                print(row[1], str(rownum - 1))\n",
    "                pass\n",
    "        rownum += 1"
   ]
  },
  {
   "cell_type": "code",
   "execution_count": 40,
   "metadata": {},
   "outputs": [
    {
     "name": "stdout",
     "output_type": "stream",
     "text": [
      "\n"
     ]
    }
   ],
   "source": [
    "print(a)"
   ]
  }
 ],
 "metadata": {
  "kernelspec": {
   "display_name": "Python 3",
   "language": "python",
   "name": "python3"
  },
  "language_info": {
   "codemirror_mode": {
    "name": "ipython",
    "version": 3
   },
   "file_extension": ".py",
   "mimetype": "text/x-python",
   "name": "python",
   "nbconvert_exporter": "python",
   "pygments_lexer": "ipython3",
   "version": "3.8.5"
  }
 },
 "nbformat": 4,
 "nbformat_minor": 4
}
