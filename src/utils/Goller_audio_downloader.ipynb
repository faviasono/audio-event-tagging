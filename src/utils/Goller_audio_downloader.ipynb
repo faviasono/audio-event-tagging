{
 "cells": [
  {
   "cell_type": "code",
   "execution_count": 1,
   "metadata": {},
   "outputs": [],
   "source": [
    "import csv, sys\n",
    "import os\n",
    "import wave\n",
    "import contextlib\n",
    "\n",
    "from __future__ import unicode_literals\n",
    "import youtube_dl"
   ]
  },
  {
   "cell_type": "code",
   "execution_count": 3,
   "metadata": {},
   "outputs": [],
   "source": [
    "filename = os.path.abspath(os.path.join(os.getcwd(),os.pardir,os.pardir))+'/data/data_split.csv'\n",
    "rownum = 0\n",
    "path = os.path.abspath(os.path.join(os.getcwd(),os.pardir,os.pardir))+'/data/Audio/'\n",
    "project_path = os.path.abspath(os.path.join(os.getcwd(),os.pardir,os.pardir))+'/src'\n"
   ]
  },
  {
   "cell_type": "code",
   "execution_count": null,
   "metadata": {},
   "outputs": [],
   "source": [
    "os.chdir(path)\n",
    "\n",
    "with open(filename, newline='') as f:\n",
    "    reader = csv.reader(f)\n",
    "    try:\n",
    "        for row in reader:\n",
    "            # Skip the 1 line header\n",
    "            if rownum >= 1:\n",
    "                print(row)\n",
    "                \n",
    "                ydl_opts = {\n",
    "                    'format': 'bestaudio/best',\n",
    "                    'outtmpl': str(rownum - 1) + '_' + row[1]+'.%(ext)s',\n",
    "                    'postprocessors': [{\n",
    "                        'key': 'FFmpegExtractAudio',\n",
    "                        'preferredcodec': 'wav',\n",
    "                        'preferredquality': '192',\n",
    "                        }],\n",
    "\n",
    "                }\n",
    "                with youtube_dl.YoutubeDL(ydl_opts) as ydl:\n",
    "                    ydl.download(['https://www.youtube.com/watch?v='+ row[1] +'])                \n",
    "                \n",
    "                \n",
    "            rownum += 1\n",
    "    except csv.Error as e:\n",
    "        sys.exit('file {}, line {}: {}'.format(filename, reader.line_num, e))"
   ]
  }
 ],
 "metadata": {
  "kernelspec": {
   "display_name": "Python 3",
   "language": "python",
   "name": "python3"
  },
  "language_info": {
   "codemirror_mode": {
    "name": "ipython",
    "version": 3
   },
   "file_extension": ".py",
   "mimetype": "text/x-python",
   "name": "python",
   "nbconvert_exporter": "python",
   "pygments_lexer": "ipython3",
   "version": "3.8.5"
  }
 },
 "nbformat": 4,
 "nbformat_minor": 4
}
