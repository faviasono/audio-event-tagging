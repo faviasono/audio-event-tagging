{
 "cells": [
  {
   "cell_type": "markdown",
   "metadata": {},
   "source": [
    "# Download audio file\n"
   ]
  },
  {
   "cell_type": "code",
   "execution_count": 181,
   "metadata": {},
   "outputs": [],
   "source": [
    "import youtube_dl\n",
    "#from youtube_dl import YoutubeDL\n",
    "import re\n",
    "import os\n",
    "from tqdm import tqdm\n",
    "import pandas as pd\n",
    "import numpy as np\n",
    "import pytube\n",
    "from moviepy.editor import *\n",
    "from moviepy.video.io.ffmpeg_tools import ffmpeg_extract_subclip\n",
    "import ffmpeg\n",
    "import subprocess\n",
    "from python_speech_features import mfcc\n",
    "from python_speech_features import fbank\n",
    "from python_speech_features import logfbank\n",
    "import scipy.io.wavfile as wav"
   ]
  },
  {
   "cell_type": "code",
   "execution_count": 179,
   "metadata": {},
   "outputs": [
    {
     "name": "stdout",
     "output_type": "stream",
     "text": [
      "Collecting python_speech_features\n",
      "  Downloading python_speech_features-0.6.tar.gz (5.6 kB)\n",
      "Building wheels for collected packages: python-speech-features\n",
      "  Building wheel for python-speech-features (setup.py) ... \u001b[?25ldone\n",
      "\u001b[?25h  Created wheel for python-speech-features: filename=python_speech_features-0.6-py3-none-any.whl size=5887 sha256=847d304252142df419ae14db792c799c3a1f6f9832b70b99cde06eafd46f7cf9\n",
      "  Stored in directory: /Users/andrea/Library/Caches/pip/wheels/b0/0e/94/28cd6afa3cd5998a63eef99fe31777acd7d758f59cf24839eb\n",
      "Successfully built python-speech-features\n",
      "Installing collected packages: python-speech-features\n",
      "Successfully installed python-speech-features-0.6\n"
     ]
    }
   ],
   "source": [
    "!pip install python_speech_features"
   ]
  },
  {
   "cell_type": "markdown",
   "metadata": {},
   "source": [
    "## Create a pandas dataset"
   ]
  },
  {
   "cell_type": "code",
   "execution_count": 3,
   "metadata": {},
   "outputs": [
    {
     "data": {
      "text/html": [
       "<div>\n",
       "<style scoped>\n",
       "    .dataframe tbody tr th:only-of-type {\n",
       "        vertical-align: middle;\n",
       "    }\n",
       "\n",
       "    .dataframe tbody tr th {\n",
       "        vertical-align: top;\n",
       "    }\n",
       "\n",
       "    .dataframe thead th {\n",
       "        text-align: right;\n",
       "    }\n",
       "</style>\n",
       "<table border=\"1\" class=\"dataframe\">\n",
       "  <thead>\n",
       "    <tr style=\"text-align: right;\">\n",
       "      <th></th>\n",
       "      <th>url</th>\n",
       "      <th>start_time</th>\n",
       "      <th>end_time</th>\n",
       "      <th>class_label</th>\n",
       "    </tr>\n",
       "  </thead>\n",
       "  <tbody>\n",
       "    <tr>\n",
       "      <th>0</th>\n",
       "      <td>SpNYhh5nwBk</td>\n",
       "      <td>50.0</td>\n",
       "      <td>60.0</td>\n",
       "      <td>Animal</td>\n",
       "    </tr>\n",
       "    <tr>\n",
       "      <th>1</th>\n",
       "      <td>Y-5QMgGV1H0</td>\n",
       "      <td>0.0</td>\n",
       "      <td>10.0</td>\n",
       "      <td>Animal</td>\n",
       "    </tr>\n",
       "    <tr>\n",
       "      <th>2</th>\n",
       "      <td>2yRlkPqa6rQ</td>\n",
       "      <td>20.0</td>\n",
       "      <td>30.0</td>\n",
       "      <td>Animal</td>\n",
       "    </tr>\n",
       "    <tr>\n",
       "      <th>3</th>\n",
       "      <td>NYiIU62GHV4</td>\n",
       "      <td>30.0</td>\n",
       "      <td>40.0</td>\n",
       "      <td>Animal</td>\n",
       "    </tr>\n",
       "    <tr>\n",
       "      <th>4</th>\n",
       "      <td>x3c0szZ7VYI</td>\n",
       "      <td>60.0</td>\n",
       "      <td>70.0</td>\n",
       "      <td>Animal</td>\n",
       "    </tr>\n",
       "  </tbody>\n",
       "</table>\n",
       "</div>"
      ],
      "text/plain": [
       "           url  start_time  end_time class_label\n",
       "0  SpNYhh5nwBk        50.0      60.0      Animal\n",
       "1  Y-5QMgGV1H0         0.0      10.0      Animal\n",
       "2  2yRlkPqa6rQ        20.0      30.0      Animal\n",
       "3  NYiIU62GHV4        30.0      40.0      Animal\n",
       "4  x3c0szZ7VYI        60.0      70.0      Animal"
      ]
     },
     "execution_count": 3,
     "metadata": {},
     "output_type": "execute_result"
    }
   ],
   "source": [
    "df=pd.read_csv(os.path.abspath(os.path.join(os.getcwd(),os.pardir,os.pardir))+'/data/data_split.csv',index_col=0)\n",
    "df.head() "
   ]
  },
  {
   "cell_type": "code",
   "execution_count": 36,
   "metadata": {},
   "outputs": [
    {
     "data": {
      "text/plain": [
       "Natural    5000\n",
       "Humans     5000\n",
       "Animal     5000\n",
       "Name: class_label, dtype: int64"
      ]
     },
     "execution_count": 36,
     "metadata": {},
     "output_type": "execute_result"
    }
   ],
   "source": [
    "df['class_label'].value_counts()"
   ]
  },
  {
   "cell_type": "code",
   "execution_count": 75,
   "metadata": {},
   "outputs": [
    {
     "name": "stderr",
     "output_type": "stream",
     "text": [
      "0it [00:00, ?it/s]"
     ]
    },
    {
     "name": "stdout",
     "output_type": "stream",
     "text": [
      "url            SpNYhh5nwBk\n",
      "start_time              50\n",
      "end_time                60\n",
      "class_label         Animal\n",
      "Name: 0, dtype: object\n"
     ]
    },
    {
     "name": "stderr",
     "output_type": "stream",
     "text": [
      "\n"
     ]
    }
   ],
   "source": [
    "for i, row in tqdm(df.iterrows()):\n",
    "    print(row)\n",
    "    break"
   ]
  },
  {
   "cell_type": "markdown",
   "metadata": {},
   "source": [
    "## Download Audio \\& extract features\n"
   ]
  },
  {
   "cell_type": "code",
   "execution_count": 245,
   "metadata": {},
   "outputs": [],
   "source": [
    "\n",
    "def get_audio_features(filename, select='mfcc'):\n",
    "    nfft = 513\n",
    "    cases = {'mfcc':mfcc, 'fbank':fbank}\n",
    "    \n",
    "    #'logfbank':logfbank, delta, etc\n",
    "    if select not in cases.keys():\n",
    "        return 0\n",
    "    \n",
    "    (rate,sig) = wav.read(filename+\".wav\")\n",
    "    \n",
    "    return cases[select](sig,rate,nfft=nfft,winfunc=np.hamming)"
   ]
  },
  {
   "cell_type": "code",
   "execution_count": 239,
   "metadata": {},
   "outputs": [
    {
     "data": {
      "text/plain": [
       "dict_values([<function mfcc at 0x7fbe594784d0>, <function fbank at 0x7fbe5e63edd0>])"
      ]
     },
     "execution_count": 239,
     "metadata": {},
     "output_type": "execute_result"
    }
   ],
   "source": [
    "{'mfcc':mfcc, 'fbank':fbank}.values()"
   ]
  },
  {
   "cell_type": "code",
   "execution_count": 231,
   "metadata": {},
   "outputs": [],
   "source": [
    "import warnings; warnings.simplefilter('ignore')"
   ]
  },
  {
   "cell_type": "code",
   "execution_count": null,
   "metadata": {},
   "outputs": [
    {
     "name": "stderr",
     "output_type": "stream",
     "text": [
      "0it [00:00, ?it/s]WARNING:root:frame length (1103) is greater than FFT size (513), frame will be truncated. Increase NFFT to avoid.\n",
      "1it [00:06,  6.22s/it]WARNING:root:frame length (1103) is greater than FFT size (513), frame will be truncated. Increase NFFT to avoid.\n",
      "3it [00:15,  5.22s/it]"
     ]
    },
    {
     "name": "stdout",
     "output_type": "stream",
     "text": [
      "Aladin https://www.youtube.com/watch?v=2yRlkPqa6rQ\n"
     ]
    },
    {
     "name": "stderr",
     "output_type": "stream",
     "text": [
      "WARNING:root:frame length (1103) is greater than FFT size (513), frame will be truncated. Increase NFFT to avoid.\n",
      "4it [00:21,  5.65s/it]"
     ]
    }
   ],
   "source": [
    "\n",
    "for i, row in tqdm(df.iterrows()):\n",
    "    if i==5:#download first 10 .wav files\n",
    "        break\n",
    "    url = 'https://www.youtube.com/watch?v=' + row['url']\n",
    "    file_name = str(i)+\"_\"+row['class_label']\n",
    "    \n",
    "    \n",
    "    try:\n",
    "        \n",
    "        #download youtube video & create a clipped .wav file\n",
    "        subprocess.Popen(\"ffmpeg -ss \" + str(row['start_time']) + \" -i $(youtube-dl -f 140 --get-url \" + url + \") -t 10 -c:v copy -c:a copy \" + file_name + \".mp4\", shell=True).wait()\n",
    "        subprocess.Popen(\"ffmpeg -i \"+file_name+\".mp4 -ab 160k -ac 2 -ar 44100 -vn \"+file_name+'.wav',shell=True).wait()\n",
    "        \n",
    "        #extract and save mfcc features to .npy\n",
    "        features = get_audio_features(file_name)\n",
    "        #add other features ?\n",
    "        np.save(file_name,features)\n",
    "        \n",
    "        #remove .mp4 and .wav files\n",
    "        subprocess.Popen('rm '+file_name+'.mp4',shell=True).wait()\n",
    "        subprocess.Popen('rm '+file_name+'.wav',shell=True).wait()\n",
    "\n",
    "\n",
    "    except:\n",
    "        print('Aladin', url)\n",
    "        pass\n",
    "    "
   ]
  },
  {
   "cell_type": "markdown",
   "metadata": {},
   "source": [
    "citare: https://github.com/HareeshBahuleyan/music-genre-classification/blob/master/1_audio_retrieval.ipynb"
   ]
  }
 ],
 "metadata": {
  "kernelspec": {
   "display_name": "Python 3",
   "language": "python",
   "name": "python3"
  },
  "language_info": {
   "codemirror_mode": {
    "name": "ipython",
    "version": 3
   },
   "file_extension": ".py",
   "mimetype": "text/x-python",
   "name": "python",
   "nbconvert_exporter": "python",
   "pygments_lexer": "ipython3",
   "version": "3.7.9"
  }
 },
 "nbformat": 4,
 "nbformat_minor": 4
}
