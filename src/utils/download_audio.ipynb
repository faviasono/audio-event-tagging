{
 "cells": [
  {
   "cell_type": "markdown",
   "metadata": {},
   "source": [
    "# Download audio file\n"
   ]
  },
  {
   "cell_type": "code",
   "execution_count": 222,
   "metadata": {},
   "outputs": [],
   "source": [
    "import youtube_dl\n",
    "\n",
    "import re\n",
    "import os\n",
    "from tqdm import tqdm\n",
    "import pandas as pd\n",
    "import numpy as np\n",
    "\n",
    "import subprocess\n",
    "\n",
    "import scipy.io.wavfile as wav\n",
    "import librosa\n",
    "\n",
    "from mega import Mega\n",
    "import getpass\n",
    "\n",
    "import warnings; warnings.simplefilter('ignore')"
   ]
  },
  {
   "cell_type": "markdown",
   "metadata": {},
   "source": [
    "## Create a pandas dataset"
   ]
  },
  {
   "cell_type": "code",
   "execution_count": 271,
   "metadata": {},
   "outputs": [],
   "source": [
    "df=pd.read_csv(os.path.abspath(os.path.join(os.getcwd(),os.pardir,os.pardir))+'/data/data_split.csv',index_col=0)"
   ]
  },
  {
   "cell_type": "code",
   "execution_count": 216,
   "metadata": {},
   "outputs": [
    {
     "data": {
      "text/html": [
       "<div>\n",
       "<style scoped>\n",
       "    .dataframe tbody tr th:only-of-type {\n",
       "        vertical-align: middle;\n",
       "    }\n",
       "\n",
       "    .dataframe tbody tr th {\n",
       "        vertical-align: top;\n",
       "    }\n",
       "\n",
       "    .dataframe thead th {\n",
       "        text-align: right;\n",
       "    }\n",
       "</style>\n",
       "<table border=\"1\" class=\"dataframe\">\n",
       "  <thead>\n",
       "    <tr style=\"text-align: right;\">\n",
       "      <th></th>\n",
       "      <th>url</th>\n",
       "      <th>start_time</th>\n",
       "      <th>end_time</th>\n",
       "      <th>class_label</th>\n",
       "    </tr>\n",
       "  </thead>\n",
       "  <tbody>\n",
       "    <tr>\n",
       "      <th>5569</th>\n",
       "      <td>eLmWZL2_r80</td>\n",
       "      <td>30.0</td>\n",
       "      <td>40.0</td>\n",
       "      <td>Humans</td>\n",
       "    </tr>\n",
       "    <tr>\n",
       "      <th>11420</th>\n",
       "      <td>lK2fHm0V04o</td>\n",
       "      <td>410.0</td>\n",
       "      <td>420.0</td>\n",
       "      <td>Natural</td>\n",
       "    </tr>\n",
       "    <tr>\n",
       "      <th>9246</th>\n",
       "      <td>XsZ9ndrYPxI</td>\n",
       "      <td>0.0</td>\n",
       "      <td>10.0</td>\n",
       "      <td>Humans</td>\n",
       "    </tr>\n",
       "    <tr>\n",
       "      <th>6712</th>\n",
       "      <td>ehmd1gJM890</td>\n",
       "      <td>10.0</td>\n",
       "      <td>20.0</td>\n",
       "      <td>Humans</td>\n",
       "    </tr>\n",
       "    <tr>\n",
       "      <th>6348</th>\n",
       "      <td>ZUgJXeToltg</td>\n",
       "      <td>200.0</td>\n",
       "      <td>210.0</td>\n",
       "      <td>Humans</td>\n",
       "    </tr>\n",
       "    <tr>\n",
       "      <th>10565</th>\n",
       "      <td>1zoYJVhzDGc</td>\n",
       "      <td>30.0</td>\n",
       "      <td>40.0</td>\n",
       "      <td>Natural</td>\n",
       "    </tr>\n",
       "    <tr>\n",
       "      <th>336</th>\n",
       "      <td>R3C1n611idY</td>\n",
       "      <td>90.0</td>\n",
       "      <td>100.0</td>\n",
       "      <td>Animal</td>\n",
       "    </tr>\n",
       "    <tr>\n",
       "      <th>1278</th>\n",
       "      <td>QkpNIF8xzEE</td>\n",
       "      <td>370.0</td>\n",
       "      <td>380.0</td>\n",
       "      <td>Animal</td>\n",
       "    </tr>\n",
       "    <tr>\n",
       "      <th>10623</th>\n",
       "      <td>01pUDNKXK9c</td>\n",
       "      <td>220.0</td>\n",
       "      <td>230.0</td>\n",
       "      <td>Natural</td>\n",
       "    </tr>\n",
       "    <tr>\n",
       "      <th>6706</th>\n",
       "      <td>lcwMqeA7fT0</td>\n",
       "      <td>30.0</td>\n",
       "      <td>40.0</td>\n",
       "      <td>Humans</td>\n",
       "    </tr>\n",
       "  </tbody>\n",
       "</table>\n",
       "</div>"
      ],
      "text/plain": [
       "               url  start_time  end_time class_label\n",
       "5569   eLmWZL2_r80        30.0      40.0      Humans\n",
       "11420  lK2fHm0V04o       410.0     420.0     Natural\n",
       "9246   XsZ9ndrYPxI         0.0      10.0      Humans\n",
       "6712   ehmd1gJM890        10.0      20.0      Humans\n",
       "6348   ZUgJXeToltg       200.0     210.0      Humans\n",
       "10565  1zoYJVhzDGc        30.0      40.0     Natural\n",
       "336    R3C1n611idY        90.0     100.0      Animal\n",
       "1278   QkpNIF8xzEE       370.0     380.0      Animal\n",
       "10623  01pUDNKXK9c       220.0     230.0     Natural\n",
       "6706   lcwMqeA7fT0        30.0      40.0      Humans"
      ]
     },
     "execution_count": 216,
     "metadata": {},
     "output_type": "execute_result"
    }
   ],
   "source": [
    "df.sample(10)"
   ]
  },
  {
   "cell_type": "code",
   "execution_count": 3,
   "metadata": {},
   "outputs": [
    {
     "data": {
      "text/plain": [
       "Animal     5000\n",
       "Natural    5000\n",
       "Humans     5000\n",
       "Name: class_label, dtype: int64"
      ]
     },
     "execution_count": 3,
     "metadata": {},
     "output_type": "execute_result"
    }
   ],
   "source": [
    "df['class_label'].value_counts()"
   ]
  },
  {
   "cell_type": "markdown",
   "metadata": {},
   "source": [
    "## Download Audio => Extract Features => Upload on Mega\n"
   ]
  },
  {
   "cell_type": "code",
   "execution_count": 118,
   "metadata": {},
   "outputs": [],
   "source": [
    "def get_audio_features(filename:str)-> np.array:\n",
    "    '''\n",
    "    input: filename (.vaw file)\n",
    "    output: dictionary containing mffc and mel-spectogram features a\n",
    "    '''\n",
    "    hop_length = 512\n",
    "    \n",
    "    y, sr = librosa.load(filename)\n",
    "    \n",
    "    mfcc_ = librosa.feature.mfcc(y=y, sr=sr, hop_length=hop_length, n_mfcc=13,n_fft=513)\n",
    "    mel_spect = librosa.feature.melspectrogram(y=y,sr=sr,n_fft=513,win_length=400)\n",
    "    \n",
    "    return dict(mfcc = mfcc_, mel_spec = mel_spect)"
   ]
  },
  {
   "cell_type": "code",
   "execution_count": 272,
   "metadata": {},
   "outputs": [],
   "source": [
    "def save_on_mega(file:str ,m: Mega):\n",
    "    '''\n",
    "    save data in folder 'features_'\n",
    "    the folder has been manually created on Mega website\n",
    "    '''\n",
    "    folder = m.find('features_')\n",
    "    m.upload(file, folder[0])"
   ]
  },
  {
   "cell_type": "code",
   "execution_count": 185,
   "metadata": {},
   "outputs": [
    {
     "name": "stdout",
     "output_type": "stream",
     "text": [
      "insert email andrea.faviait@gmail.com\n",
      "insert password········\n"
     ]
    }
   ],
   "source": [
    "#login to Mega account \n",
    "\n",
    "m = Mega()\n",
    "email = input('insert email ')\n",
    "psw = getpass.getpass(prompt='insert password')\n",
    "m.login(email,psw)"
   ]
  },
  {
   "cell_type": "code",
   "execution_count": null,
   "metadata": {},
   "outputs": [],
   "source": [
    "not_downloaded = dict(Animal = 0, Humans = 0, Natural = 0)\n",
    "\n",
    "#n.b. you might have to chance the working directory (os.chdir()))\n",
    "\n",
    "for i, row in tqdm(df.iterrows()):\n",
    "    \n",
    "    url = 'https://www.youtube.com/watch?v=' + row['url']\n",
    "    file_name = str(i)+\"_\"+row['class_label']\n",
    "    \n",
    "    try:\n",
    "        \n",
    "        #download youtube video & create a clipped .wav file\n",
    "        subprocess.Popen(\"ffmpeg -ss \" + str(row['start_time']) + \" -i $(youtube-dl -f 140 --get-url \" + url + \") -t 10 -c:v copy -c:a copy \" + file_name + \".mp4\", shell=True).wait()\n",
    "        subprocess.Popen(\"ffmpeg -i \"+file_name+\".mp4 -ab 160k -ac 2 -ar 44100 -vn \"+file_name+'.wav',shell=True).wait()\n",
    "        \n",
    "        #extract mfcc, mel features\n",
    "        res = get_audio_features(file_name+'.wav')\n",
    "        \n",
    "        #save .npy file and upload on mega\n",
    "        file = np.save(file_name,res)\n",
    "        save_on_mega(file_name+'.npy',m)\n",
    "        \n",
    "        #remove .mp4, .wav files, .npy file\n",
    "        subprocess.Popen('rm '+file_name+'.mp4',shell=True).wait()\n",
    "        subprocess.Popen('rm '+file_name+'.wav',shell=True).wait()\n",
    "        subprocess.Popen('rm '+file_name+'.npy',shell=True).wait()\n",
    "\n",
    "\n",
    "    except Exception as e:\n",
    "        not_downloaded[row['class_label']] += 1\n",
    "        pass\n",
    "    "
   ]
  }
 ],
 "metadata": {
  "kernelspec": {
   "display_name": "Python 3",
   "language": "python",
   "name": "python3"
  }
 },
 "nbformat": 4,
 "nbformat_minor": 4
}
